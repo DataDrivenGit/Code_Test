{
 "cells": [
  {
   "cell_type": "code",
   "execution_count": 17,
   "metadata": {},
   "outputs": [],
   "source": [
    "from __future__ import print_function, division\n",
    "from builtins import range, input\n",
    "\n",
    "from keras.models import Model\n",
    "from keras.layers import Input, LSTM, GRU, Bidirectional\n",
    "import numpy as np\n",
    "import matplotlib.pyplot as plt\n",
    "\n",
    "import keras.backend as K\n",
    "if len(K.tensorflow_backend._get_available_gpus()) > 0:\n",
    "    from keras.layers import CuDNNLSTM as LSTM\n",
    "    from keras.layers import CuDNNGRU as GRU\n",
    "\n",
    "\n",
    "T = 8\n",
    "D = 2\n",
    "M = 3\n",
    "\n"
   ]
  },
  {
   "cell_type": "code",
   "execution_count": 18,
   "metadata": {},
   "outputs": [],
   "source": [
    "\n",
    "X = np.random.randn(1, T, D)\n",
    "\n",
    "\n"
   ]
  },
  {
   "cell_type": "code",
   "execution_count": 19,
   "metadata": {},
   "outputs": [
    {
     "name": "stdout",
     "output_type": "stream",
     "text": [
      "o: [[-0.3073975   0.21173829  0.03880617  0.11091023 -0.12514763  0.12022498]]\n",
      "o.shape: (1, 6)\n",
      "h1: [[-0.3073975   0.21173829  0.03880617]]\n",
      "c1: [[-0.6957031   0.45726115  0.10915798]]\n",
      "h2: [[ 0.11091023 -0.12514763  0.12022498]]\n",
      "c2: [[ 0.19903004 -0.3369229   0.19519034]]\n"
     ]
    }
   ],
   "source": [
    "input_ = Input(shape=(T, D))\n",
    "rnn = Bidirectional(LSTM(M, return_state=True, return_sequences=False))\n",
    "x = rnn(input_)\n",
    "\n",
    "model = Model(inputs=input_, outputs=x)\n",
    "o, h1, c1, h2, c2 = model.predict(X)\n",
    "print(\"o:\", o)\n",
    "print(\"o.shape:\", o.shape)\n",
    "print(\"h1:\", h1)\n",
    "print(\"c1:\", c1)\n",
    "print(\"h2:\", h2)\n",
    "print(\"c2:\", c2)"
   ]
  },
  {
   "cell_type": "markdown",
   "metadata": {},
   "source": [
    "# Observation\n",
    "* first three element of output are same as hidden layer1 and last 3 element of output is same as hidden 2 output\n",
    "* (similar to lstm but bilstm has 2 * M output by concatinating h1 and h2) "
   ]
  },
  {
   "cell_type": "code",
   "execution_count": 20,
   "metadata": {},
   "outputs": [
    {
     "name": "stdout",
     "output_type": "stream",
     "text": [
      "o: [[[ 0.08225317 -0.01430445  0.09361622 -0.02362693 -0.05423457\n",
      "    0.319291  ]\n",
      "  [-0.00577456  0.02091784  0.07957386 -0.03989784  0.06570874\n",
      "    0.28765446]\n",
      "  [ 0.02835152  0.03297314  0.12194187 -0.0819132   0.13735355\n",
      "    0.3590855 ]\n",
      "  [ 0.04899116 -0.12114828  0.01362365 -0.06216739  0.29288286\n",
      "    0.5378831 ]\n",
      "  [ 0.07797018 -0.24138609 -0.01151504 -0.0798246   0.16588143\n",
      "    0.30895457]\n",
      "  [ 0.11444704 -0.21692346  0.01553933 -0.06054181  0.07501098\n",
      "    0.33132875]\n",
      "  [ 0.1317901  -0.21210963  0.02711366 -0.03080852  0.00376539\n",
      "    0.25413427]\n",
      "  [ 0.14639273 -0.31028098  0.11111116  0.05819631 -0.12609623\n",
      "   -0.01807204]]]\n",
      "o.shape: (1, 8, 6)\n",
      "h1: [[ 0.14639273 -0.31028098  0.11111116]]\n",
      "c1: [[ 0.24323933 -0.8754319   0.18718286]]\n",
      "h2: [[-0.02362693 -0.05423457  0.319291  ]]\n",
      "c2: [[-0.04930751 -0.14082718  0.7281732 ]]\n"
     ]
    }
   ],
   "source": [
    "input_ = Input(shape=(T, D))\n",
    "rnn = Bidirectional(LSTM(M, return_state=True, return_sequences=True))\n",
    "x = rnn(input_)\n",
    "\n",
    "model = Model(inputs=input_, outputs=x)\n",
    "o, h1, c1, h2, c2 = model.predict(X)\n",
    "print(\"o:\", o)\n",
    "print(\"o.shape:\", o.shape)\n",
    "print(\"h1:\", h1)\n",
    "print(\"c1:\", c1)\n",
    "print(\"h2:\", h2)\n",
    "print(\"c2:\", c2)"
   ]
  },
  {
   "cell_type": "markdown",
   "metadata": {},
   "source": [
    "# observation\n",
    "* here first 3 element of last output are same as h1 but last 3 not same as h2 \n",
    "* last 3 element of output are same as last 3 element of first output  \n",
    "\n",
    "note : h2 is final hidden state of backward lstm => back to front\n",
    "\n"
   ]
  }
 ],
 "metadata": {
  "kernelspec": {
   "display_name": "Python 3",
   "language": "python",
   "name": "python3"
  },
  "language_info": {
   "codemirror_mode": {
    "name": "ipython",
    "version": 3
   },
   "file_extension": ".py",
   "mimetype": "text/x-python",
   "name": "python",
   "nbconvert_exporter": "python",
   "pygments_lexer": "ipython3",
   "version": "3.6.8"
  }
 },
 "nbformat": 4,
 "nbformat_minor": 2
}
