{
 "cells": [
  {
   "cell_type": "code",
   "execution_count": 13,
   "metadata": {},
   "outputs": [],
   "source": [
    "from __future__ import print_function, division\n",
    "from builtins import range, input\n",
    "# Note: you may need to update your version of future\n",
    "# sudo pip install -U future\n",
    "\n",
    "from keras.models import Model\n",
    "from keras.layers import Input, LSTM, GRU\n",
    "import numpy as np\n",
    "import matplotlib.pyplot as plt\n",
    "\n",
    "import keras.backend as K\n",
    "if len(K.tensorflow_backend._get_available_gpus()) > 0:\n",
    "    from keras.layers import CuDNNLSTM as LSTM\n",
    "    from keras.layers import CuDNNGRU as GRU\n",
    "\n",
    "\n",
    "T = 8\n",
    "D = 2\n",
    "M = 3\n",
    "\n",
    "\n",
    "X = np.random.randn(1, T, D)\n"
   ]
  },
  {
   "cell_type": "code",
   "execution_count": 14,
   "metadata": {},
   "outputs": [],
   "source": [
    "\n",
    "\n",
    "def lstm_Returnstate_true():\n",
    "    input_ = Input(shape=(T, D))\n",
    "    rnn = LSTM(M, return_state=True)\n",
    "    x = rnn(input_)\n",
    "\n",
    "    model = Model(inputs=input_, outputs=x)\n",
    "    o, h, c = model.predict(X)\n",
    "    print(\"o:\", o)\n",
    "    print(\"h:\", h)\n",
    "    print(\"c:\", c)\n",
    "\n",
    "\n",
    "def lstm_Returnstate_AND_returnsequence_true():\n",
    "    input_ = Input(shape=(T, D))\n",
    "    rnn = LSTM(M, return_state=True, return_sequences=True)\n",
    "    # rnn = GRU(M, return_state=True)\n",
    "    x = rnn(input_)\n",
    "\n",
    "    model = Model(inputs=input_, outputs=x)\n",
    "    o, h, c = model.predict(X)\n",
    "    print(\"o:\", o)\n",
    "    print(\"h:\", h)\n",
    "    print(\"c:\", c)\n",
    "\n",
    "\n",
    "def gru_Returnstate_true():\n",
    "    input_ = Input(shape=(T, D))\n",
    "    rnn = GRU(M, return_state=True)\n",
    "    x = rnn(input_)\n",
    "\n",
    "    model = Model(inputs=input_, outputs=x)\n",
    "    o, h = model.predict(X)\n",
    "    print(\"o:\", o)\n",
    "    print(\"h:\", h)\n",
    "\n",
    "\n",
    "def gru_Returnstate_AND_returnsequence_true():\n",
    "    input_ = Input(shape=(T, D))\n",
    "    rnn = GRU(M, return_state=True, return_sequences=True)\n",
    "    x = rnn(input_)\n",
    "\n",
    "    model = Model(inputs=input_, outputs=x)\n",
    "    o, h = model.predict(X)\n",
    "    print(\"o:\", o)\n",
    "    print(\"h:\", h)\n",
    "\n",
    "\n",
    "\n"
   ]
  },
  {
   "cell_type": "code",
   "execution_count": 15,
   "metadata": {},
   "outputs": [
    {
     "name": "stdout",
     "output_type": "stream",
     "text": [
      "[[[ 0.59770203 -1.77543792]\n",
      "  [ 1.57415438  0.06258254]\n",
      "  [-0.41013369 -0.65110409]\n",
      "  [-0.6387672   0.71499926]\n",
      "  [-1.2551291  -0.18229779]\n",
      "  [ 0.16753876 -0.07189795]\n",
      "  [-0.84034669 -0.58607109]\n",
      "  [ 0.52870897 -0.04132431]]]\n"
     ]
    }
   ],
   "source": [
    "print(X)"
   ]
  },
  {
   "cell_type": "code",
   "execution_count": 16,
   "metadata": {},
   "outputs": [
    {
     "name": "stdout",
     "output_type": "stream",
     "text": [
      "lstm_Returnstate_true:\n",
      "\n",
      "o: [[0.10098546 0.07345855 0.13779718]]\n",
      "h: [[0.10098546 0.07345855 0.13779718]]\n",
      "c: [[0.23691705 0.16269636 0.27071425]]\n"
     ]
    }
   ],
   "source": [
    "print(\"lstm_Returnstate_true:\\n\")\n",
    "lstm_Returnstate_true()\n",
    "\n"
   ]
  },
  {
   "cell_type": "markdown",
   "metadata": {},
   "source": [
    "### (sequence off => only last output)output (o) = h() (hidden weight)"
   ]
  },
  {
   "cell_type": "code",
   "execution_count": 17,
   "metadata": {},
   "outputs": [
    {
     "name": "stdout",
     "output_type": "stream",
     "text": [
      "lstm_Returnstate_AND_returnsequence_true:\n",
      "\n",
      "o: [[[-0.07742085  0.08336933 -0.08741067]\n",
      "  [-0.08392014  0.22832906 -0.11696269]\n",
      "  [-0.0882296   0.08592086 -0.14338201]\n",
      "  [-0.04461702 -0.03219777 -0.02296619]\n",
      "  [-0.01677374 -0.0765813   0.09561656]\n",
      "  [-0.01820315 -0.05259386  0.05045644]\n",
      "  [-0.01193126 -0.0396757   0.12601651]\n",
      "  [-0.02017559  0.00416929  0.03921372]]]\n",
      "h: [[-0.02017559  0.00416929  0.03921372]]\n",
      "c: [[-0.04523549  0.00753654  0.08610378]]\n"
     ]
    }
   ],
   "source": [
    "print(\"lstm_Returnstate_AND_returnsequence_true:\\n\")\n",
    "lstm_Returnstate_AND_returnsequence_true()\n"
   ]
  },
  {
   "cell_type": "markdown",
   "metadata": {},
   "source": [
    "### (sequence on => all output) output (o) = h() (hidden weight)(still)\n",
    "here 8 output bcoz we have 8 rows of data with two fetures"
   ]
  },
  {
   "cell_type": "code",
   "execution_count": 18,
   "metadata": {},
   "outputs": [
    {
     "name": "stdout",
     "output_type": "stream",
     "text": [
      "gru_Returnstate_true:\n",
      "\n",
      "o: [[ 0.1031701  -0.07571063 -0.06093329]]\n",
      "h: [[ 0.1031701  -0.07571063 -0.06093329]]\n"
     ]
    }
   ],
   "source": [
    "print(\"gru_Returnstate_true:\\n\")\n",
    "gru_Returnstate_true()\n"
   ]
  },
  {
   "cell_type": "markdown",
   "metadata": {},
   "source": [
    "### (sequence off => only last output)output (o) = h() (hidden weight)"
   ]
  },
  {
   "cell_type": "code",
   "execution_count": 19,
   "metadata": {
    "scrolled": true
   },
   "outputs": [
    {
     "name": "stdout",
     "output_type": "stream",
     "text": [
      "gru_Returnstate_AND_returnsequence_true:\n",
      "\n",
      "o: [[[ 0.41126525  0.46204838 -0.15682572]\n",
      "  [ 0.66549796  0.05200069 -0.18274572]\n",
      "  [ 0.39732218  0.29752    -0.06487527]\n",
      "  [ 0.01592791  0.0638899   0.10468091]\n",
      "  [-0.2184583   0.28934878  0.1566674 ]\n",
      "  [ 0.00994719  0.09565081  0.01362375]\n",
      "  [-0.13003094  0.36673814  0.03617081]\n",
      "  [ 0.18083726  0.07897285 -0.06370836]]]\n",
      "h: [[ 0.18083726  0.07897285 -0.06370836]]\n"
     ]
    }
   ],
   "source": [
    "print(\"gru_Returnstate_AND_returnsequence_true:\\n\")\n",
    "gru_Returnstate_AND_returnsequence_true()"
   ]
  },
  {
   "cell_type": "markdown",
   "metadata": {},
   "source": [
    "### (sequence off => only last output)output (o) = h() (hidden weight)"
   ]
  },
  {
   "cell_type": "code",
   "execution_count": null,
   "metadata": {},
   "outputs": [],
   "source": []
  },
  {
   "cell_type": "markdown",
   "metadata": {},
   "source": [
    "# Observation\n",
    "* h(hidden state) and c(cell state) are final hidden state of LSTM\n",
    "* i.e at last time stamp output = hidden state\n",
    "\n",
    "* h(hidden state) and c(cell state) are final hidden state of gru\n",
    "* i.e at last time stamp output = hidden state"
   ]
  }
 ],
 "metadata": {
  "kernelspec": {
   "display_name": "Python 3",
   "language": "python",
   "name": "python3"
  },
  "language_info": {
   "codemirror_mode": {
    "name": "ipython",
    "version": 3
   },
   "file_extension": ".py",
   "mimetype": "text/x-python",
   "name": "python",
   "nbconvert_exporter": "python",
   "pygments_lexer": "ipython3",
   "version": "3.6.8"
  }
 },
 "nbformat": 4,
 "nbformat_minor": 2
}
